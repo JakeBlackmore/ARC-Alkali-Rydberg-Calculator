{
 "cells": [
  {
   "cell_type": "code",
   "execution_count": 6,
   "metadata": {},
   "outputs": [],
   "source": [
    "# NOTE: Uncomment following two lines ONLY if you are not using installation via pip\n",
    "import sys, os\n",
    "sys.path.insert(0,\".\")  # add current directory in look up path for Python packages\n",
    "\n",
    "from arc import *\n",
    "from arc.beta import *  # This is necessary for running this notebook before official release of ARC 3.0.0\n"
   ]
  },
  {
   "cell_type": "markdown",
   "metadata": {},
   "source": [
    "You might need to run following line to compile Numerov extension locally "
   ]
  },
  {
   "cell_type": "code",
   "execution_count": 4,
   "metadata": {},
   "outputs": [
    {
     "name": "stdout",
     "output_type": "stream",
     "text": [
      "\u001b[39mrunning build_ext\u001b[0m\n",
      "\u001b[39mbuilding 'arc_c_extensions' extension\u001b[0m\n",
      "\u001b[39mWarning: Can't read registry to find the necessary compiler setting\n",
      "Make sure that Python modules winreg, win32api or win32con are installed.\u001b[0m\n",
      "\u001b[39mC compiler: gcc -pthread -B /home/nikola/anaconda3/compiler_compat -Wl,--sysroot=/ -Wsign-compare -DNDEBUG -g -fwrapv -O3 -Wall -Wstrict-prototypes -fPIC\n",
      "\u001b[0m\n",
      "\u001b[39mcreating build\u001b[0m\n",
      "\u001b[39mcreating build/temp.linux-x86_64-3.7\u001b[0m\n",
      "\u001b[39mcompile options: '-I/home/nikola/anaconda3/lib/python3.7/site-packages/numpy/core/include -I/home/nikola/anaconda3/include/python3.7m -c'\n",
      "extra options: '-Wall -O3'\u001b[0m\n",
      "\u001b[39mgcc: arc_c_extensions.c\u001b[0m\n",
      "\u001b[39mgcc -pthread -shared -B /home/nikola/anaconda3/compiler_compat -L/home/nikola/anaconda3/lib -Wl,-rpath=/home/nikola/anaconda3/lib -Wl,--no-as-needed -Wl,--sysroot=/ build/temp.linux-x86_64-3.7/arc_c_extensions.o -o /home/nikola/Documents/Desktop/sandbox/ARC-Alkali-Rydberg-Calculator/arc/arc_c_extensions.cpython-37m-x86_64-linux-gnu.so\u001b[0m\n"
     ]
    }
   ],
   "source": [
    "!cd arc; python ./setupc.py build_ext --inplace"
   ]
  },
  {
   "cell_type": "code",
   "execution_count": 7,
   "metadata": {},
   "outputs": [],
   "source": [
    "atom=Rubidium()  # it works!"
   ]
  },
  {
   "cell_type": "code",
   "execution_count": null,
   "metadata": {},
   "outputs": [],
   "source": []
  }
 ],
 "metadata": {
  "kernelspec": {
   "display_name": "Python 3",
   "language": "python",
   "name": "python3"
  },
  "language_info": {
   "codemirror_mode": {
    "name": "ipython",
    "version": 3
   },
   "file_extension": ".py",
   "mimetype": "text/x-python",
   "name": "python",
   "nbconvert_exporter": "python",
   "pygments_lexer": "ipython3",
   "version": "3.7.6"
  }
 },
 "nbformat": 4,
 "nbformat_minor": 4
}
