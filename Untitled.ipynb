{
 "cells": [
  {
   "cell_type": "code",
   "execution_count": 1,
   "metadata": {},
   "outputs": [],
   "source": [
    "#Configure Environment\n",
    "\n",
    "# NOTE: Uncomment following two lines ONLY if you are not using installation via pip\n",
    "import sys, os\n",
    "sys.path.insert(0,\".\")  # add current directory in look up path for Python packages\n",
    "\n",
    "from arc import *\n",
    "from arc.beta import *  # This is necessary for running this notebook before official release of ARC 3.0.0\n",
    "\n",
    "%matplotlib inline\n",
    "import matplotlib.pyplot as plt\n",
    "import numpy as np\n",
    "\n",
    "cs = Cesium();"
   ]
  },
  {
   "cell_type": "code",
   "execution_count": 7,
   "metadata": {},
   "outputs": [
    {
     "name": "stdout",
     "output_type": "stream",
     "text": [
      "|3,-3> --> |1/2,-1/2> OmC/2pi = 19.91 MHz, sph=-0.540062\n",
      "|3,-2> --> |1/2,-1/2> OmC/2pi = 18.43 MHz, sph=-0.500000\n",
      "|3,-1> --> |1/2,-1/2> OmC/2pi = 16.82 MHz, sph=-0.456435\n",
      "|3,0> --> |1/2,-1/2> OmC/2pi = 15.05 MHz, sph=-0.408248\n",
      "|3,1> --> |1/2,-1/2> OmC/2pi = 13.03 MHz, sph=-0.353553\n",
      "|3,2> --> |1/2,-1/2> OmC/2pi = 10.64 MHz, sph=-0.288675\n",
      "|3,3> --> |1/2,-1/2> OmC/2pi = 7.52 MHz, sph=-0.204124\n",
      "|4,-3> --> |1/2,-1/2> OmC/2pi = 7.52 MHz, sph=-0.204124\n",
      "|4,-2> --> |1/2,-1/2> OmC/2pi = 10.64 MHz, sph=-0.288675\n",
      "|4,-1> --> |1/2,-1/2> OmC/2pi = 13.03 MHz, sph=-0.353553\n",
      "|4,0> --> |1/2,-1/2> OmC/2pi = 15.05 MHz, sph=-0.408248\n",
      "|4,1> --> |1/2,-1/2> OmC/2pi = 16.82 MHz, sph=-0.456435\n",
      "|4,2> --> |1/2,-1/2> OmC/2pi = 18.43 MHz, sph=-0.500000\n",
      "|4,3> --> |1/2,-1/2> OmC/2pi = 19.91 MHz, sph=-0.540062\n",
      "|4,4> --> |1/2,-1/2> OmC/2pi = 21.28 MHz, sph=-0.577350\n",
      "\n",
      "Rydberg Excitation 6S1/2 |4,0> to 82S |1/2,-1/2> via 7P_1/2\n",
      "\n",
      "\tParameters:\tDelta/2pi = 0.83 GHz, Pp = 22.00 uW, wp = 3.0 um, qp=1, Pc = 2.00 mW, wc = 3.7 um, qc=-1\n",
      "\n",
      "\tResults:\tOmR/2pi = 0.68201 MHz\n",
      "\t\t\tACg/2pi = 0.79026 MHz\n",
      "\t\t\tACr/2pi = 1.14635 MHz\n",
      "\t\t\tAC/2pi = 0.35610 MHz\n",
      "\t\t\tPsc = 0.012234\n",
      "\n",
      "Maller15: (Close agreement to MATLAB code)\n",
      "\tOmR/2pi = -0.68 MHz\n",
      "\tAC/2pi = -0.64 MHz\n",
      "\tPsc = 0.012272\n"
     ]
    }
   ],
   "source": [
    "#Benchmark ARC against Maller15\n",
    "SPD='SPD'\n",
    "#Laser Parameters (Table II Caption)\n",
    "Pp=22e-6;wp=3e-6;qp=1;\n",
    "Pc=2e-3;wc=3.7e-6;qc=-1;\n",
    "#Ground State\n",
    "fg=4;mfg=0;\n",
    "#Excited state (7P1/2)\n",
    "ne=7;le=1;je=0.5;\n",
    "#Rydberg state (82S1/2)\n",
    "nr=82;lr=0;jr=0.5;mjr=-0.5;\n",
    "\n",
    "#Detuning Array\n",
    "Delta0=0.83e9*2*np.pi\n",
    "\n",
    "[OmR,ACg,ACr,Psc]=cs.twoPhotonRydbergExcitation(Pp,wp,qp,Pc,wc,qc,Delta0,fg,mfg,ne,le,je,nr,lr,jr,mjr)\n",
    "print('\\nRydberg Excitation 6S1/2 |%d,%d> to %d%c |%d/2,%d/2> via %dP_%d/2' % (fg,mfg,nr,SPD[lr],2*jr,2*mjr,ne,je*2))\n",
    "print('\\n\\tParameters:\\tDelta/2pi = %2.2f GHz, Pp = %1.2f uW, wp = %2.1f um, qp=%d, Pc = %1.2f mW, wc = %2.1f um, qc=%d' \\\n",
    "      % (Delta0/2.0/np.pi*1e-9,Pp*1e6,wp*1e6,qp,Pc*1e3,wc*1e6,qc))\n",
    "print('\\n\\tResults:\\tOmR/2pi = %2.5f MHz\\n\\t\\t\\tACg/2pi = %2.5f MHz\\n\\t\\t\\tACr/2pi = %2.5f MHz\\n\\t\\t\\tAC/2pi = %2.5f MHz\\n\\t\\t\\tPsc = %f' %  \\\n",
    "      (OmR/2.0/np.pi*1e-6,ACg/2.0/np.pi*1e-6,ACr/2.0/np.pi*1e-6,(ACr-ACg)/2.0/np.pi*1e-6,Psc))\n",
    "\n",
    "\n",
    "print('\\nMaller15: (Close agreement to MATLAB code)')\n",
    "\n",
    "[A,B]=cs.getHFSCoefficients(ne,le,je)\n",
    "d4=cs.getHFSEnergyShift(je,4,A,B)*2*pi\n",
    "d3=cs.getHFSEnergyShift(je,3,A,B)*2*pi\n",
    "\n",
    "Om = -20600*np.sqrt(Pp*1e3*Pc*1e3)/(nr**1.5*wp*1e6*wc*1e6*Delta0/2e9/np.pi) \\\n",
    "    *(1-5*d3/8/Delta0-3*d4/8/Delta0)/((1-d3/Delta0)*(1-d4/Delta0))\n",
    "\n",
    "print('\\tOmR/2pi = %2.2f MHz'%Om)\n",
    "\n",
    "ac = (160200*Pc*1e3/(nr**3*(wc*1e6)**2)-93.47*Pp*1e3/(wp*1e6)**2)*1/(Delta0/2e9/np.pi)*(1/(1-d3/Delta0)+5/3/(1-d4/Delta0))\n",
    "\n",
    "print('\\tAC/2pi = %2.2f MHz'%ac)\n",
    "\n",
    "p = (0.43*np.sqrt(Pc/(Pp*nr**3))*wp/wc+2.5e-4*np.sqrt(nr**3*Pp/Pc)*wc/wp) \\\n",
    "    *1/(Delta0/2e9/np.pi)*(1-2*(5*d3/8/Delta0+3*d4/8/Delta0)+5/8*d3**2/Delta0**2+3/8*d4**2/Delta0**2) \\\n",
    "    /((1-d3/Delta0)*(1-d4/Delta0)*(1-5*d3/8/Delta0-3*d4/8/Delta0))\n",
    "\n",
    "print('\\tPsc = %f'%(p/np.pi))\n"
   ]
  },
  {
   "cell_type": "code",
   "execution_count": 3,
   "metadata": {},
   "outputs": [],
   "source": [
    "#Recording Zoom interview\n",
    "# AL: OBS Screen Capture\n",
    "# Ruth = Record Zoom, Intro's to camera not in Zoom.\n",
    "#"
   ]
  },
  {
   "cell_type": "code",
   "execution_count": null,
   "metadata": {},
   "outputs": [],
   "source": []
  }
 ],
 "metadata": {
  "kernelspec": {
   "display_name": "Python 3",
   "language": "python",
   "name": "python3"
  },
  "language_info": {
   "codemirror_mode": {
    "name": "ipython",
    "version": 3
   },
   "file_extension": ".py",
   "mimetype": "text/x-python",
   "name": "python",
   "nbconvert_exporter": "python",
   "pygments_lexer": "ipython3",
   "version": "3.7.7"
  }
 },
 "nbformat": 4,
 "nbformat_minor": 4
}
