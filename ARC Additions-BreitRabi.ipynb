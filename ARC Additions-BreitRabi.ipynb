{
 "cells": [
  {
   "cell_type": "markdown",
   "metadata": {},
   "source": [
    "# ARC Additions: Notebook of new functions and testing / benchmarking to verify parameters and sources\n",
    "\n",
    "Goal: Transfer hyperfine atomic physics functions from internal Matlab toolbox to ARC.\n",
    "\n",
    "JP, University of Strathclyde (2020)"
   ]
  },
  {
   "cell_type": "code",
   "execution_count": 1,
   "metadata": {},
   "outputs": [],
   "source": [
    "#Configure Environment\n",
    "\n",
    "# NOTE: Uncomment following two lines ONLY if you are not using installation via pip\n",
    "import sys, os\n",
    "sys.path.insert(0,\".\")  # add current directory in look up path for Python packages\n",
    "\n",
    "from arc import *\n",
    "from arc.beta import *  # This is necessary for running this notebook before official release of ARC 3.0.0\n",
    "\n",
    "%matplotlib inline\n",
    "import matplotlib.pyplot as plt\n",
    "import numpy as np\n",
    "\n",
    "from scipy.constants import physical_constants\n",
    "\n",
    "cs = Cesium();\n",
    "rb87 = Rubidium87();"
   ]
  },
  {
   "cell_type": "markdown",
   "metadata": {},
   "source": [
    "## Breit-Rabi Plots for Ground State Transitions\n",
    "\n",
    " + New function \"[A,B] = self.getHFSCoefficients(self,n, l, j, s=None)\" added to return HFS constants in Hz. This is currently using hard-coded values for Cs and Rb, but has been written as a place-holder for adding in a table. Refernce [5] and [6] have useful reference info\n",
    "\n"
   ]
  },
  {
   "cell_type": "code",
   "execution_count": 2,
   "metadata": {},
   "outputs": [],
   "source": [
    "B=np.linspace(0,500,101)*1e-4\n",
    "en,f,mf=cs.breitRabi(6,0,0.5,B)"
   ]
  },
  {
   "cell_type": "code",
   "execution_count": 4,
   "metadata": {},
   "outputs": [
    {
     "data": {
      "text/plain": [
       "array([ 3.,  2.,  1., -0., -1., -2., -3., -4., -3., -2., -1.,  0.,  1.,\n",
       "        2.,  3.,  4.])"
      ]
     },
     "execution_count": 4,
     "metadata": {},
     "output_type": "execute_result"
    }
   ],
   "source": [
    "mf"
   ]
  },
  {
   "cell_type": "code",
   "execution_count": null,
   "metadata": {},
   "outputs": [],
   "source": []
  }
 ],
 "metadata": {
  "kernelspec": {
   "display_name": "Python 3",
   "language": "python",
   "name": "python3"
  },
  "language_info": {
   "codemirror_mode": {
    "name": "ipython",
    "version": 3
   },
   "file_extension": ".py",
   "mimetype": "text/x-python",
   "name": "python",
   "nbconvert_exporter": "python",
   "pygments_lexer": "ipython3",
   "version": "3.7.7"
  }
 },
 "nbformat": 4,
 "nbformat_minor": 4
}
