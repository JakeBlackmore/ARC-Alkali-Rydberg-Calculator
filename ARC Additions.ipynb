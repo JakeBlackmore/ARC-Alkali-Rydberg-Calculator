{
 "cells": [
  {
   "cell_type": "markdown",
   "metadata": {},
   "source": [
    "# ARC Additions: Notebook of new functions and testing / benchmarking to verify parameters and sources\n",
    "\n",
    "Goal: Transfer hyperfine atomic physics functions from internal Matlab toolbox to ARC.\n",
    "\n",
    "JP, University of Strathclyde (2020)"
   ]
  },
  {
   "cell_type": "code",
   "execution_count": 4,
   "metadata": {},
   "outputs": [],
   "source": [
    "#Configure Environment\n",
    "\n",
    "# NOTE: Uncomment following two lines ONLY if you are not using installation via pip\n",
    "import sys, os\n",
    "sys.path.insert(0,\".\")  # add current directory in look up path for Python packages\n",
    "\n",
    "from arc import *\n",
    "from arc.beta import *  # This is necessary for running this notebook before official release of ARC 3.0.0\n",
    "\n",
    "%matplotlib inline\n",
    "import matplotlib.pyplot as plt\n",
    "import numpy as np\n",
    "from wigner import Wigner6j, Wigner3j, CG, WignerDmatrix\n",
    "\n",
    "cs = Cesium();\n",
    "rb87 = Rubidium87();"
   ]
  },
  {
   "cell_type": "markdown",
   "metadata": {},
   "source": [
    "## Check ARC Parameters for D1/2 and inverted (n+1)P_{1/2,3/2}\n",
    "\n",
    " + New function \"[A,B] = self.getHFSCoefficients(self,n, l, j, s=None)\" added to return HFS constants in Hz. This is currently using hard-coded values for Cs and Rb, but has been written as a place-holder for adding in a table. Refernce [5] and [6] have useful reference info\n",
    "\n",
    "##### References\n",
    "[1] Steck\n",
    "\n",
    "[2] M. Ortiz and J. Campos, J. Quant. Spectrosc. Radiat. Transfer 26, 107 (1981)\n",
    "\n",
    "[3] Vasilyev, A. A. and Savukov, I. M. and Safronova, M. S. and Berry, H. G., PRA 66, 020101 (2002)\n",
    "\n",
    "[4] M. S. Safronova, Carl J. Williams, and Charles W. Clark, PRA 69, 022509 (2004)\n",
    "\n",
    "[5] D. Feiertag, A. Sahm, and G. zu Putlitz, Z. Phys. 255, 93 (1972)\n",
    "\n",
    "[6] E. Arrimondo, M. Inguscio and P. Violino, Rev. Mod. Phys. 49, 31 (1977)\n"
   ]
  },
  {
   "cell_type": "code",
   "execution_count": 5,
   "metadata": {},
   "outputs": [
    {
     "name": "stdout",
     "output_type": "stream",
     "text": [
      "Cs Numbers\n",
      "==========\n",
      "State Lifetimes:\n",
      "\t[1] : Tau6P1/2 = 34.894(44) ns, ARC = 35.070 ns (0.51 % error)\n",
      "\t[1] : Tau6P3/2 = 30.473(44) ns, ARC = 30.569 ns (0.32 % error)\n",
      "\t[2] : Tau7P1/2 = 155 ns, ARC = 153.914 ns (-0.70 % error)\n",
      "\t[2] : Tau7P3/2 = 133 ns, ARC = 130.788 ns (-1.66 % error)\n",
      "Matrix Elements\n",
      "\t[3] : <6S1/2||er||7P1/2> = 0.2757, ARC = 0.2790 ns (1.20 % error)\n",
      "\t[3] : <6S1/2||er||7P3/2> = 0.5856, ARC = 0.5760 ns (-1.64 % error)\n",
      "Hyperfine Constants\n",
      "\t[1] : 6S1/2 A = 2298.1579 MHz,B = 0.0000 MHz\n",
      "\t[1] : 6P1/2 A = 291.9201 MHz,B = 0.0000 MHz\n",
      "\t[1] : 6P3/2 A = 50.2750 MHz,B = -0.5300 MHz\n",
      "\t[5] : 7P1/2 A = 94.3500 MHz,B = 0.0000 MHz\n",
      "\t[6] : 7P3/2 A = 16.6500 MHz,B = -0.1500 MHz\n",
      "\n",
      "Rb Numbers\n",
      "==========\n",
      "State Lifetimes:\n",
      "\t[1] : Tau5P1/2 = 27.70(4) ns, ARC = 27.836 ns (0.49 % error)\n",
      "\t[1] : Tau5P3/2 = 26.24(4) ns, ARC = 26.435 ns (0.74 % error)\n",
      "\t[4] : Tau7P1/2 = 125 ns, ARC = 129.295 ns (3.44 % error)\n",
      "\t[4] : Tau7P3/2 = 112 ns, ARC = 118.143 ns (5.48 % error)\n",
      "Matrix Elements\n",
      "\t[4] : <5S1/2||er||6P1/2> = 0.3330, ARC = 0.3330 ns (0.00 % error)\n",
      "\t[4] : <5S1/2||er||6P3/2> = 0.5410, ARC = 0.5410 ns (0.00 % error)\n",
      "Hyperfine Constants\n",
      "\t[1] : 6S1/2 A = 3417.3413 MHz,B = 0.0000 MHz\n",
      "\t[1] : 6P1/2 A = 408.3280 MHz,B = 0.0000 MHz\n",
      "\t[1] : 6P3/2 A = 84.7185 MHz,B = 12.4965 MHz\n",
      "\t[5] : 7P1/2 A = 132.5600 MHz,B = 0.0000 MHz\n",
      "\t[6] : 7P3/2 A = 27.6740 MHz,B = 3.9450 MHz\n"
     ]
    }
   ],
   "source": [
    "print(\"Cs Numbers\")\n",
    "print(\"==========\")\n",
    "print(\"State Lifetimes:\")\n",
    "#Lifetime Comparison -->\n",
    "print(\"\\t[1] : Tau6P1/2 = 34.894(44) ns, ARC = %2.3f ns (%2.2f %% error)\" % (cs.getStateLifetime(6,1,0.5)*1e9,(cs.getStateLifetime(6,1,0.5)*1e9-34.894)/34.894*100))\n",
    "print(\"\\t[1] : Tau6P3/2 = 30.473(44) ns, ARC = %2.3f ns (%2.2f %% error)\" % (cs.getStateLifetime(6,1,1.5)*1e9,(cs.getStateLifetime(6,1,1.5)*1e9-30.473)/30.473*100))\n",
    "print(\"\\t[2] : Tau7P1/2 = 155 ns, ARC = %2.3f ns (%2.2f %% error)\" % (cs.getStateLifetime(7,1,0.5)*1e9,(cs.getStateLifetime(7,1,0.5)*1e9-155)/155*100))\n",
    "print(\"\\t[2] : Tau7P3/2 = 133 ns, ARC = %2.3f ns (%2.2f %% error)\" % (cs.getStateLifetime(7,1,1.5)*1e9,(cs.getStateLifetime(7,1,1.5)*1e9-133)/133*100))\n",
    "#Matrix Elements\n",
    "print(\"Matrix Elements\")\n",
    "r = 0.2757;rm = cs.getReducedMatrixElementJ(6,0,0.5,7,1,0.5)\n",
    "print(\"\\t[3] : <6S1/2||er||7P1/2> = %1.4f, ARC = %2.4f ns (%2.2f %% error)\" % (r,rm,(rm-r)/r*100))\n",
    "r = 0.5856;rm = cs.getReducedMatrixElementJ(6,0,0.5,7,1,1.5)\n",
    "print(\"\\t[3] : <6S1/2||er||7P3/2> = %1.4f, ARC = %2.4f ns (%2.2f %% error)\" % (r,rm,(rm-r)/r*100))\n",
    "#Hyperfine Splitting Coefficients\n",
    "print(\"Hyperfine Constants\")\n",
    "[A,B]=cs.getHFSCoefficients(6,0,0.5)\n",
    "print(\"\\t[1] : 6S1/2 A = %1.4f MHz,B = %1.4f MHz\" % (A*1e-6,B*1e-6))\n",
    "[A,B]=cs.getHFSCoefficients(6,1,0.5)\n",
    "print(\"\\t[1] : 6P1/2 A = %1.4f MHz,B = %1.4f MHz\" % (A*1e-6,B*1e-6))\n",
    "[A,B]=cs.getHFSCoefficients(6,1,1.5)\n",
    "print(\"\\t[1] : 6P3/2 A = %1.4f MHz,B = %1.4f MHz\" % (A*1e-6,B*1e-6))\n",
    "[A,B]=cs.getHFSCoefficients(7,1,0.5)\n",
    "print(\"\\t[5] : 7P1/2 A = %1.4f MHz,B = %1.4f MHz\" % (A*1e-6,B*1e-6))\n",
    "[A,B]=cs.getHFSCoefficients(7,1,1.5)\n",
    "print(\"\\t[6] : 7P3/2 A = %1.4f MHz,B = %1.4f MHz\" % (A*1e-6,B*1e-6))\n",
    "\n",
    "print(\"\\nRb Numbers\")\n",
    "print(\"==========\")\n",
    "print(\"State Lifetimes:\")\n",
    "#Lifetime Comparison -->\n",
    "print(\"\\t[1] : Tau5P1/2 = 27.70(4) ns, ARC = %2.3f ns (%2.2f %% error)\" % (rb87.getStateLifetime(5,1,0.5)*1e9,(rb87.getStateLifetime(5,1,0.5)*1e9-27.70)/27.70*100))\n",
    "print(\"\\t[1] : Tau5P3/2 = 26.24(4) ns, ARC = %2.3f ns (%2.2f %% error)\" % (rb87.getStateLifetime(5,1,1.5)*1e9,(rb87.getStateLifetime(5,1,1.5)*1e9-26.24)/26.24*100))\n",
    "print(\"\\t[4] : Tau7P1/2 = 125 ns, ARC = %2.3f ns (%2.2f %% error)\" % (rb87.getStateLifetime(6,1,0.5)*1e9,(rb87.getStateLifetime(6,1,0.5)*1e9-125)/125*100))\n",
    "print(\"\\t[4] : Tau7P3/2 = 112 ns, ARC = %2.3f ns (%2.2f %% error)\" % (rb87.getStateLifetime(6,1,1.5)*1e9,(rb87.getStateLifetime(6,1,1.5)*1e9-112)/112*100))\n",
    "#Matrix Elements\n",
    "print(\"Matrix Elements\")\n",
    "r = 0.333;rm = rb87.getReducedMatrixElementJ(5,0,0.5,6,1,0.5)\n",
    "print(\"\\t[4] : <5S1/2||er||6P1/2> = %1.4f, ARC = %2.4f ns (%2.2f %% error)\" % (r,rm,(rm-r)/r*100))\n",
    "r = 0.541;rm = rb87.getReducedMatrixElementJ(5,0,0.5,6,1,1.5)\n",
    "print(\"\\t[4] : <5S1/2||er||6P3/2> = %1.4f, ARC = %2.4f ns (%2.2f %% error)\" % (r,rm,(rm-r)/r*100))\n",
    "print(\"Hyperfine Constants\")\n",
    "[A,B]=rb87.getHFSCoefficients(5,0,0.5)\n",
    "print(\"\\t[1] : 6S1/2 A = %1.4f MHz,B = %1.4f MHz\" % (A*1e-6,B*1e-6))\n",
    "[A,B]=rb87.getHFSCoefficients(5,1,0.5)\n",
    "print(\"\\t[1] : 6P1/2 A = %1.4f MHz,B = %1.4f MHz\" % (A*1e-6,B*1e-6))\n",
    "[A,B]=rb87.getHFSCoefficients(5,1,1.5)\n",
    "print(\"\\t[1] : 6P3/2 A = %1.4f MHz,B = %1.4f MHz\" % (A*1e-6,B*1e-6))\n",
    "[A,B]=rb87.getHFSCoefficients(6,1,0.5)\n",
    "print(\"\\t[5] : 7P1/2 A = %1.4f MHz,B = %1.4f MHz\" % (A*1e-6,B*1e-6))\n",
    "[A,B]=rb87.getHFSCoefficients(6,1,1.5)\n",
    "print(\"\\t[6] : 7P3/2 A = %1.4f MHz,B = %1.4f MHz\" % (A*1e-6,B*1e-6))"
   ]
  },
  {
   "cell_type": "markdown",
   "metadata": {},
   "source": [
    "### Angular Momentum Functions\n",
    "\n",
    " + sphericalDipoleMatrixElement()\n",
    " \n",
    "    Angular part of spherical matrix element $A$ in units of reduced matrix element $\\langle j\\vert\\vert\\mu\\vert\\vert j'\\rangle$ (Wigner-Eckart decomposition)\n",
    " \n",
    "\\begin{equation}\n",
    "\\langle j m_j\\vert \\mu_q \\vert j' m_j' \\rangle = (-1)^{j-m_j}\\begin{pmatrix}j&1&j'\\\\-m_j&-q&m_j'\\end{pmatrix}\\langle j\\vert\\vert\\mu\\vert\\vert j'\\rangle = A\\langle j\\vert\\vert\\mu\\vert\\vert j'\\rangle, \n",
    "\\end{equation}\n",
    " \n",
    " + _reducedMatrixElementFJ(j1,f1,j2,f2)\n",
    " \n",
    " Reduced dipole matrix element $\\langle f \\vert\\vert\\mu\\vert\\vert f'\\rangle$ in units of $\\langle j\\vert\\vert\\mu\\vert\\vert j'\\rangle$\n",
    " \n",
    " \\begin{equation}\n",
    "\\langle f \\vert\\vert\\mu\\vert\\vert f'\\rangle = (-1)^{j+I+f'+1}\\sqrt{(2f+1)(2f'+1)}\n",
    "\\begin{Bmatrix}f&1&f'\\\\j'&I&j\\end{Bmatrix}\\langle j\\vert\\vert\\mu\\vert\\vert j'\\rangle, \\label{eq:frf}\n",
    "\\end{equation}\n",
    "\n",
    " + getSphericalMatrixElementHFStoFS(j1,f1,mf1,j2,mj2,q)\n",
    " \n",
    " Angular coefficient of matrix element $\\langle jfm_f \\vert er_q\\vert j'f'm_f'\\rangle$ for coupling to state without resolved HFS, in units of $\\langle j\\vert\\vert\\mu\\vert\\vert j'\\rangle$\n",
    " \n",
    "\\begin{align}\n",
    "\\langle f,m_f \\vert\\mu_q\\vert j',m_j'\\rangle &=\\displaystyle\\sum_{f'}C_{j'm_j'I(m_f+q-m_j')}^{f'(m_f+q)}(-1)^{f-m_f}\\begin{pmatrix}f&1&f'\\\\-m_f&-q&m_f+q\\end{pmatrix}\\\\&\n",
    "\\times(-1)^{j+I+f'+1}\\sqrt{(2f+1)(2f'+1)}\n",
    "\\begin{Bmatrix}f&1&f'\\\\j'&I&j\\end{Bmatrix}\\langle j\\vert\\vert\\mu\\vert\\vert j'\\rangle\n",
    "\\end{align}\n",
    "\n",
    " + getDipoleMatrixElementHFStoFS(n1,l1,j1,f1,mf1,n2,l2,j2,mj2,q)\n",
    " \n",
    " Full dipole matrix element $\\langle jfm_f \\vert er_q\\vert j'f'm_f'\\rangle$ for coupling to state without resolved HFS, in units of $ea_0$\n",
    " \n",
    "\\begin{align}\n",
    "\\langle f,m_f \\vert\\mu_q\\vert j',m_j'\\rangle &=\\displaystyle\\sum_{f'}C_{j'm_j'I(m_f+q-m_j')}^{f'(m_f+q)}(-1)^{f-m_f}\\begin{pmatrix}f&1&f'\\\\-m_f&-q&m_f+q\\end{pmatrix}\\\\&\n",
    "\\times(-1)^{j+I+f'+1}\\sqrt{(2f+1)(2f'+1)}\n",
    "\\begin{Bmatrix}f&1&f'\\\\j'&I&j\\end{Bmatrix}\\langle j\\vert\\vert\\mu\\vert\\vert j'\\rangle\n",
    "\\end{align}\n",
    "\n"
   ]
  },
  {
   "cell_type": "code",
   "execution_count": 6,
   "metadata": {},
   "outputs": [
    {
     "name": "stdout",
     "output_type": "stream",
     "text": [
      "0.05307503188919966\n",
      "0.06128576789695479\n",
      "0.017372882224603748\n",
      "0.28347335475692037\n",
      "0.32732683535398854\n"
     ]
    }
   ],
   "source": [
    "#Test Matrix Element Calculation \n",
    "n1=6\n",
    "l1=1\n",
    "j1=1.5\n",
    "f1=4\n",
    "mf1=0\n",
    "q=-1\n",
    "\n",
    "n2=25\n",
    "l2=0\n",
    "j2=0.5\n",
    "mj2=0.5\n",
    "\n",
    "# Matrix Element <nlj | er | nlj>\n",
    "rme = cs.getRadialMatrixElement(n1,l1,j1,n2,l2,j2)\n",
    "print (rme)\n",
    "\n",
    "#Reduced Matrix element <nlj || er || nlj>\n",
    "rmeJ = cs.getReducedMatrixElementJ(n1, l1, j1, n2, l2, j2)\n",
    "print(rmeJ)\n",
    "\n",
    "#Full Matrix element <nljfmf |er | nljmj>\n",
    "me = cs.getDipoleMatrixElementHFStoFS(n1, l1, j1, f1, mf1,n2, l2, j2, mj2,q)\n",
    "print(me)\n",
    "\n",
    "#Spherical matrix element\n",
    "print(me/rmeJ)\n",
    "print(me/rme)"
   ]
  },
  {
   "cell_type": "code",
   "execution_count": 8,
   "metadata": {},
   "outputs": [
    {
     "data": {
      "text/plain": [
       "2.0023193043737"
      ]
     },
     "execution_count": 8,
     "metadata": {},
     "output_type": "execute_result"
    }
   ],
   "source": [
    "cs.gS"
   ]
  },
  {
   "cell_type": "code",
   "execution_count": null,
   "metadata": {},
   "outputs": [],
   "source": []
  }
 ],
 "metadata": {
  "kernelspec": {
   "display_name": "Python 3",
   "language": "python",
   "name": "python3"
  },
  "language_info": {
   "codemirror_mode": {
    "name": "ipython",
    "version": 3
   },
   "file_extension": ".py",
   "mimetype": "text/x-python",
   "name": "python",
   "nbconvert_exporter": "python",
   "pygments_lexer": "ipython3",
   "version": "3.7.7"
  }
 },
 "nbformat": 4,
 "nbformat_minor": 4
}
